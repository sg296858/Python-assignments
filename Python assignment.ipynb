{
 "cells": [
  {
   "cell_type": "code",
   "execution_count": 1,
   "id": "95baa5d6-ba6b-4c6f-ab9e-eb8a08778424",
   "metadata": {},
   "outputs": [],
   "source": [
    "#Program to print numbers from 1to 10 using a for loop"
   ]
  },
  {
   "cell_type": "code",
   "execution_count": 2,
   "id": "6e1f3ac1-70b6-4619-abfe-986866623a4a",
   "metadata": {},
   "outputs": [
    {
     "name": "stdout",
     "output_type": "stream",
     "text": [
      "1\n",
      "2\n",
      "3\n",
      "4\n",
      "5\n",
      "6\n",
      "7\n",
      "8\n",
      "9\n",
      "10\n"
     ]
    }
   ],
   "source": [
    "for i in range(1,11):\n",
    "    print(i)"
   ]
  },
  {
   "cell_type": "code",
   "execution_count": 3,
   "id": "df182d7a-e1a1-4c4e-9e8c-34b7c0d7a79d",
   "metadata": {},
   "outputs": [],
   "source": [
    "#program to calculate the sum of all numbers from 1 to 100 using a for loop"
   ]
  },
  {
   "cell_type": "code",
   "execution_count": 4,
   "id": "bb066d19-ec87-4c6f-acb1-111631dd7c56",
   "metadata": {},
   "outputs": [
    {
     "name": "stdout",
     "output_type": "stream",
     "text": [
      "5050\n"
     ]
    }
   ],
   "source": [
    "sum=0\n",
    "for i in range(1,101):\n",
    "    sum=sum+i\n",
    "print(sum)    "
   ]
  },
  {
   "cell_type": "code",
   "execution_count": 13,
   "id": "c12fa084-c35e-43ea-b8a6-836eac93a545",
   "metadata": {},
   "outputs": [],
   "source": [
    "#iterating a list using for loop in python"
   ]
  },
  {
   "cell_type": "code",
   "execution_count": 14,
   "id": "47abd1af-00c3-4a3f-a7ce-acb365211b1f",
   "metadata": {},
   "outputs": [
    {
     "name": "stdout",
     "output_type": "stream",
     "text": [
      "1\n",
      "2\n",
      "3\n",
      "4\n",
      "5\n"
     ]
    }
   ],
   "source": [
    "list=[1,2,3,4,5]\n",
    "for i in list:\n",
    "    print(i)"
   ]
  },
  {
   "cell_type": "code",
   "execution_count": 5,
   "id": "b83dd1d7-b59d-4caa-ab99-8eca8c205cb2",
   "metadata": {},
   "outputs": [],
   "source": [
    "#Python progarm to find product of all elements in a list using a for loop"
   ]
  },
  {
   "cell_type": "code",
   "execution_count": 6,
   "id": "83207139-600b-4976-9b55-3938c83d4e62",
   "metadata": {},
   "outputs": [
    {
     "name": "stdout",
     "output_type": "stream",
     "text": [
      "120\n"
     ]
    }
   ],
   "source": [
    "list=[1,2,3,4,5]\n",
    "product=1\n",
    "for i in list:\n",
    "    product=product*i\n",
    "print(product)    "
   ]
  },
  {
   "cell_type": "code",
   "execution_count": 7,
   "id": "5c3c2f73-bf51-4119-a80f-c14e4f35dea8",
   "metadata": {},
   "outputs": [],
   "source": [
    "#Python program that prints all even numbers from 1 to 20 using a for loop"
   ]
  },
  {
   "cell_type": "code",
   "execution_count": 10,
   "id": "46a76819-9665-457f-9e10-193e795d10aa",
   "metadata": {},
   "outputs": [
    {
     "name": "stdout",
     "output_type": "stream",
     "text": [
      "2\n",
      "4\n",
      "6\n",
      "8\n",
      "10\n",
      "12\n",
      "14\n",
      "16\n",
      "18\n",
      "20\n"
     ]
    }
   ],
   "source": [
    "for i in range(1,21):\n",
    "    if i%2==0:\n",
    "        print(i)"
   ]
  },
  {
   "cell_type": "code",
   "execution_count": 11,
   "id": "cf6e0b09-a9df-42c2-a81d-caacefb13171",
   "metadata": {},
   "outputs": [],
   "source": [
    "#calculate factorial of a number using a for loop"
   ]
  },
  {
   "cell_type": "code",
   "execution_count": 12,
   "id": "3c07ba51-01f1-4cb0-912a-2aa590feca0a",
   "metadata": {},
   "outputs": [
    {
     "name": "stdout",
     "output_type": "stream",
     "text": [
      "24\n"
     ]
    }
   ],
   "source": [
    "n=4\n",
    "fact=1\n",
    "for i in range(1,n+1):\n",
    "    fact=fact*i\n",
    "print(fact)    "
   ]
  },
  {
   "cell_type": "code",
   "execution_count": 15,
   "id": "ba4959c9-eb49-4ab3-ba34-d0eb8a41e1d6",
   "metadata": {},
   "outputs": [],
   "source": [
    "#iterating characters for a string using for loop in python"
   ]
  },
  {
   "cell_type": "code",
   "execution_count": 16,
   "id": "f7307ac0-9152-4aac-8018-6cf205c24fef",
   "metadata": {},
   "outputs": [
    {
     "name": "stdout",
     "output_type": "stream",
     "text": [
      "s\n",
      "h\n",
      "u\n",
      "b\n",
      "h\n",
      "a\n",
      "m\n"
     ]
    }
   ],
   "source": [
    "s=\"shubham\"\n",
    "for i in s:\n",
    "    print(i)"
   ]
  },
  {
   "cell_type": "code",
   "execution_count": 17,
   "id": "1e1ddab2-444b-4eb1-a036-052fc551a853",
   "metadata": {},
   "outputs": [],
   "source": [
    "#largest number in a list using for loop in python"
   ]
  },
  {
   "cell_type": "code",
   "execution_count": 34,
   "id": "2ae9b30a-b116-4ade-9cdc-045a71819ab8",
   "metadata": {},
   "outputs": [
    {
     "name": "stdout",
     "output_type": "stream",
     "text": [
      "Largest element is: 99\n"
     ]
    }
   ],
   "source": [
    "def myMax(list1):\n",
    " \n",
    "\n",
    "    max = list1[0]\n",
    "\n",
    "    for x in list1:\n",
    "        if x > max:\n",
    "            max = x\n",
    " \n",
    "    return max\n",
    " \n",
    " \n",
    "# Driver code\n",
    "list1 = [10, 20, 4, 45, 99]\n",
    "print(\"Largest element is:\", myMax(list1))"
   ]
  },
  {
   "cell_type": "code",
   "execution_count": 35,
   "id": "bcd1630c-f89c-455b-9ab5-6818e2cd9def",
   "metadata": {},
   "outputs": [],
   "source": [
    "#fibonaaci series"
   ]
  },
  {
   "cell_type": "code",
   "execution_count": 44,
   "id": "d1181087-83ba-4a97-8e60-fa76c1688cc9",
   "metadata": {},
   "outputs": [],
   "source": [
    "def fib(n):\n",
    "    a,b=0,1\n",
    "    for i in range(n):\n",
    "        yield a\n",
    "        a,b=b,a+b "
   ]
  },
  {
   "cell_type": "code",
   "execution_count": 45,
   "id": "ff997274-54fb-4e5a-adf9-e27f3e92c6f8",
   "metadata": {},
   "outputs": [
    {
     "data": {
      "text/plain": [
       "<generator object fib at 0x7ff91ae23290>"
      ]
     },
     "execution_count": 45,
     "metadata": {},
     "output_type": "execute_result"
    }
   ],
   "source": [
    "fib(5)"
   ]
  },
  {
   "cell_type": "code",
   "execution_count": 46,
   "id": "5f690666-23c3-4f38-94da-4c3466fb0883",
   "metadata": {},
   "outputs": [
    {
     "name": "stdout",
     "output_type": "stream",
     "text": [
      "0\n",
      "1\n",
      "1\n",
      "2\n",
      "3\n"
     ]
    }
   ],
   "source": [
    "for i in fib(5):\n",
    "    print(i)"
   ]
  },
  {
   "cell_type": "code",
   "execution_count": 47,
   "id": "b3034b17-138c-4966-9972-b9052b1b62d6",
   "metadata": {},
   "outputs": [],
   "source": [
    "#count the number of vowels in a given string using for loop"
   ]
  },
  {
   "cell_type": "code",
   "execution_count": 48,
   "id": "126bceed-dcd3-459e-bf0d-6645b8319ee4",
   "metadata": {},
   "outputs": [
    {
     "name": "stdout",
     "output_type": "stream",
     "text": [
      "2\n"
     ]
    }
   ],
   "source": [
    "vowelcount=0\n",
    "s=\"shubham\"\n",
    "for i in s:\n",
    "    if i=='a' or i=='e' or i=='i' or i=='o' or i=='u':\n",
    "        vowelcount+=1\n",
    "print(vowelcount)     "
   ]
  },
  {
   "cell_type": "code",
   "execution_count": 49,
   "id": "6ed7def8-a08d-475d-95ec-0cd67e00ea81",
   "metadata": {},
   "outputs": [],
   "source": [
    "#multiplication table using for loop"
   ]
  },
  {
   "cell_type": "code",
   "execution_count": 54,
   "id": "4414ff99-1006-4462-b442-11f723b7fe05",
   "metadata": {},
   "outputs": [
    {
     "name": "stdout",
     "output_type": "stream",
     "text": [
      "1 x 1 = 1\n",
      "1 x 2 = 2\n",
      "1 x 3 = 3\n",
      "1 x 4 = 4\n",
      "1 x 5 = 5\n",
      "1 x 6 = 6\n",
      "1 x 7 = 7\n",
      "1 x 8 = 8\n",
      "1 x 9 = 9\n",
      "1 x 10 = 10\n",
      "2 x 1 = 2\n",
      "2 x 2 = 4\n",
      "2 x 3 = 6\n",
      "2 x 4 = 8\n",
      "2 x 5 = 10\n",
      "2 x 6 = 12\n",
      "2 x 7 = 14\n",
      "2 x 8 = 16\n",
      "2 x 9 = 18\n",
      "2 x 10 = 20\n",
      "3 x 1 = 3\n",
      "3 x 2 = 6\n",
      "3 x 3 = 9\n",
      "3 x 4 = 12\n",
      "3 x 5 = 15\n",
      "3 x 6 = 18\n",
      "3 x 7 = 21\n",
      "3 x 8 = 24\n",
      "3 x 9 = 27\n",
      "3 x 10 = 30\n",
      "4 x 1 = 4\n",
      "4 x 2 = 8\n",
      "4 x 3 = 12\n",
      "4 x 4 = 16\n",
      "4 x 5 = 20\n",
      "4 x 6 = 24\n",
      "4 x 7 = 28\n",
      "4 x 8 = 32\n",
      "4 x 9 = 36\n",
      "4 x 10 = 40\n"
     ]
    }
   ],
   "source": [
    "for i in range(1,5):\n",
    "    for j in range(1,11):\n",
    "        print(i,'x',j,'=',i*j)"
   ]
  },
  {
   "cell_type": "code",
   "execution_count": 55,
   "id": "ffecfe11-eda7-4a8e-8fec-d3e853970013",
   "metadata": {},
   "outputs": [],
   "source": [
    "#Progarm to reverse a list using a for loop"
   ]
  },
  {
   "cell_type": "code",
   "execution_count": 68,
   "id": "3287e945-7b0b-481a-aa83-35e5afe11471",
   "metadata": {},
   "outputs": [],
   "source": [
    "list=[\"shubh\" \"sudh\"]\n",
    "x=tuple(map(lambda c:c[: : -1],list)) "
   ]
  },
  {
   "cell_type": "code",
   "execution_count": 69,
   "id": "e6229383-ee04-493b-8f2f-6dcce7c88b4f",
   "metadata": {},
   "outputs": [
    {
     "data": {
      "text/plain": [
       "('hdushbuhs',)"
      ]
     },
     "execution_count": 69,
     "metadata": {},
     "output_type": "execute_result"
    }
   ],
   "source": [
    "x"
   ]
  },
  {
   "cell_type": "code",
   "execution_count": null,
   "id": "48dfc93c-12b4-4965-96ee-42f7755b7d5a",
   "metadata": {},
   "outputs": [],
   "source": [
    "#progarm to check duplicates"
   ]
  },
  {
   "cell_type": "code",
   "execution_count": 70,
   "id": "4693ed39-e0ff-432a-9b7d-4cfb1f798ad3",
   "metadata": {},
   "outputs": [
    {
     "name": "stdout",
     "output_type": "stream",
     "text": [
      "Duplicates found\n"
     ]
    }
   ],
   "source": [
    "l1=[1,2,3,4,5]\n",
    "l2=[5,6,7]\n",
    "aset=set(l1)\n",
    "bset=set(l2)\n",
    "if aset & bset:\n",
    "    print(\"Duplicates found\")\n",
    "else:\n",
    "    print(\"Not found\")"
   ]
  },
  {
   "cell_type": "code",
   "execution_count": 71,
   "id": "ca7dc494-476c-49b8-8d37-a17db4f5d6eb",
   "metadata": {},
   "outputs": [],
   "source": [
    "#counts the number of words in sentence using for loop"
   ]
  },
  {
   "cell_type": "code",
   "execution_count": 72,
   "id": "d1769998-d39f-444d-9bc9-9308b2c2608f",
   "metadata": {},
   "outputs": [
    {
     "name": "stdout",
     "output_type": "stream",
     "text": [
      "18\n"
     ]
    }
   ],
   "source": [
    "s=\"my name is shubham\"\n",
    "count=0\n",
    "for i in s:\n",
    "    count+=1\n",
    "print(count)    "
   ]
  },
  {
   "cell_type": "code",
   "execution_count": 73,
   "id": "a566a572-b2e6-4628-b36c-67b0b240b45b",
   "metadata": {},
   "outputs": [],
   "source": [
    "#program to find sum of all odd numbers from 1to 50 using a for loop"
   ]
  },
  {
   "cell_type": "code",
   "execution_count": 1,
   "id": "8d0842c4-ce01-4c7a-b1c3-3744ee4e9e2c",
   "metadata": {},
   "outputs": [],
   "source": [
    "sum=0\n",
    "for i in range(1,51):\n",
    "    if i%2!=0:\n",
    "        sum=sum+i"
   ]
  },
  {
   "cell_type": "code",
   "execution_count": 2,
   "id": "fe60f19b-69aa-435a-817e-7b79917aa5df",
   "metadata": {},
   "outputs": [
    {
     "data": {
      "text/plain": [
       "625"
      ]
     },
     "execution_count": 2,
     "metadata": {},
     "output_type": "execute_result"
    }
   ],
   "source": [
    "sum"
   ]
  },
  {
   "cell_type": "code",
   "execution_count": null,
   "id": "a11d21cb-6222-40d0-993f-499717947fc2",
   "metadata": {},
   "outputs": [],
   "source": [
    "#leap year using forloop"
   ]
  },
  {
   "cell_type": "code",
   "execution_count": 3,
   "id": "848bca93-9aeb-40f0-900b-f7bca80dd14a",
   "metadata": {},
   "outputs": [
    {
     "name": "stdin",
     "output_type": "stream",
     "text": [
      "Enter the year 2000\n"
     ]
    },
    {
     "name": "stdout",
     "output_type": "stream",
     "text": [
      "2000 year is leap year\n"
     ]
    }
   ],
   "source": [
    "year=int(input(\"Enter the year\"))\n",
    "if year%400==0 and year%100==0:\n",
    "    print(year,\"year is leap year\")\n",
    "elif year%4==0 and year%100!=0:\n",
    "    print(year,\"year is leap year\")\n",
    "else:\n",
    "    print(year,\"year is not a leap year\")"
   ]
  },
  {
   "cell_type": "code",
   "execution_count": 4,
   "id": "ad3aa188-e6a4-4182-8a4c-d42aa75f97be",
   "metadata": {},
   "outputs": [],
   "source": [
    "#square root of a number"
   ]
  },
  {
   "cell_type": "code",
   "execution_count": 7,
   "id": "1b2c5ecb-9d8f-4588-9619-c5bdcc7caa13",
   "metadata": {},
   "outputs": [
    {
     "name": "stdout",
     "output_type": "stream",
     "text": [
      "3\n"
     ]
    }
   ],
   "source": [
    "def square(x):\n",
    "    sqrt=x**0.5\n",
    "    result=int(sqrt)\n",
    "    return result\n",
    "    \n",
    "y=square(9)\n",
    "print(y)"
   ]
  },
  {
   "cell_type": "code",
   "execution_count": null,
   "id": "4c981983-1660-4078-b89c-a221d57968ea",
   "metadata": {},
   "outputs": [],
   "source": [
    "#string is palindrome using for loop"
   ]
  },
  {
   "cell_type": "code",
   "execution_count": 10,
   "id": "cea224b1-0476-4246-8a37-babe781ce00e",
   "metadata": {},
   "outputs": [
    {
     "name": "stdout",
     "output_type": "stream",
     "text": [
      "string is palindromic\n",
      "string is palindromic\n",
      "string is palindromic\n",
      "string is palindromic\n",
      "string is palindromic\n",
      "string is palindromic\n",
      "string is palindromic\n",
      "string is palindromic\n",
      "string is palindromic\n"
     ]
    }
   ],
   "source": [
    "s=\"malayalam\"\n",
    "for i in s:\n",
    "    if s==s[: : -1]:\n",
    "         print(\"string is palindromic\")\n",
    "    else:\n",
    "        print(\"string is not palindromic\")"
   ]
  },
  {
   "cell_type": "code",
   "execution_count": 11,
   "id": "d3a4dca9-3cf6-467a-ab4c-cd3b06b34088",
   "metadata": {},
   "outputs": [],
   "source": [
    "#GCD of 2 numbers using for loop in python"
   ]
  },
  {
   "cell_type": "code",
   "execution_count": 13,
   "id": "04a694c8-e347-46b5-8371-e206de5b2d10",
   "metadata": {},
   "outputs": [
    {
     "name": "stdout",
     "output_type": "stream",
     "text": [
      "gcd of 36 and 12 is 6\n"
     ]
    }
   ],
   "source": [
    "num1=36\n",
    "num2=12\n",
    "a=num1\n",
    "b=num2\n",
    "gcd=i\n",
    "for i in range(1,min(num1,num2)):\n",
    "    if num1%i==0 and num2%i==0:\n",
    "        gcd=i\n",
    "print(\"gcd of\",num1,\"and\",num2 ,\"is\",gcd)            "
   ]
  },
  {
   "cell_type": "code",
   "execution_count": 14,
   "id": "cdd1e17a-2a97-4033-80f5-e50f43ab9080",
   "metadata": {},
   "outputs": [],
   "source": [
    "#for loop to iterate through keys and values in dictionary using python"
   ]
  },
  {
   "cell_type": "code",
   "execution_count": null,
   "id": "1d02da95-c498-44f9-84be-2a24fb0557a3",
   "metadata": {},
   "outputs": [],
   "source": [
    "dict={}\n"
   ]
  },
  {
   "cell_type": "code",
   "execution_count": null,
   "id": "272502b2-93cc-4980-802c-7015e070dd0b",
   "metadata": {},
   "outputs": [],
   "source": [
    "#LCM of 2 numbers"
   ]
  },
  {
   "cell_type": "code",
   "execution_count": 1,
   "id": "fde60202-e72d-4933-8f43-5ee04105c743",
   "metadata": {},
   "outputs": [],
   "source": [
    "#Maps"
   ]
  },
  {
   "cell_type": "code",
   "execution_count": 7,
   "id": "a91ea253-a599-4e8d-93c1-b30671a1cf0c",
   "metadata": {},
   "outputs": [],
   "source": [
    "l1=[1,2,3,4,5]"
   ]
  },
  {
   "cell_type": "code",
   "execution_count": 16,
   "id": "b53030ca-1214-4caf-81bd-04f5cadc232f",
   "metadata": {},
   "outputs": [
    {
     "data": {
      "text/plain": [
       "(3, 4, 5, 6, 7)"
      ]
     },
     "execution_count": 16,
     "metadata": {},
     "output_type": "execute_result"
    }
   ],
   "source": [
    "tuple(map(lambda a:a+2,l1))"
   ]
  },
  {
   "cell_type": "code",
   "execution_count": 17,
   "id": "c0415c4c-2878-4db2-bdc4-dcd85914803c",
   "metadata": {},
   "outputs": [
    {
     "data": {
      "text/plain": [
       "[1, 2, 3, 4, 5]"
      ]
     },
     "execution_count": 17,
     "metadata": {},
     "output_type": "execute_result"
    }
   ],
   "source": [
    "l1"
   ]
  },
  {
   "cell_type": "code",
   "execution_count": 18,
   "id": "16dcb8a9-2c65-47c6-a5d0-bff1c1d3dddf",
   "metadata": {},
   "outputs": [
    {
     "data": {
      "text/plain": [
       "(1, 4, 9, 16, 25)"
      ]
     },
     "execution_count": 18,
     "metadata": {},
     "output_type": "execute_result"
    }
   ],
   "source": [
    "tuple(map(lambda n:n**2,l1))"
   ]
  },
  {
   "cell_type": "code",
   "execution_count": 19,
   "id": "a64acdc2-a5a2-4250-b4af-746309726fad",
   "metadata": {},
   "outputs": [],
   "source": [
    "list=[\"shub\",\"shubham\"]"
   ]
  },
  {
   "cell_type": "code",
   "execution_count": 20,
   "id": "5b1560be-eaba-4511-a1b6-347cd8d513c6",
   "metadata": {},
   "outputs": [
    {
     "data": {
      "text/plain": [
       "['shub', 'shubham']"
      ]
     },
     "execution_count": 20,
     "metadata": {},
     "output_type": "execute_result"
    }
   ],
   "source": [
    "list"
   ]
  },
  {
   "cell_type": "code",
   "execution_count": 22,
   "id": "650fca70-b7b8-46af-a48f-43abc89c3c3f",
   "metadata": {},
   "outputs": [
    {
     "data": {
      "text/plain": [
       "('SHUB', 'SHUBHAM')"
      ]
     },
     "execution_count": 22,
     "metadata": {},
     "output_type": "execute_result"
    }
   ],
   "source": [
    "tuple(map(lambda n:n.upper(),list))"
   ]
  },
  {
   "cell_type": "code",
   "execution_count": 23,
   "id": "babc64f0-2f30-484e-bc8c-88d99f41a742",
   "metadata": {},
   "outputs": [
    {
     "data": {
      "text/plain": [
       "['shub', 'shubham']"
      ]
     },
     "execution_count": 23,
     "metadata": {},
     "output_type": "execute_result"
    }
   ],
   "source": [
    "list"
   ]
  },
  {
   "cell_type": "code",
   "execution_count": 25,
   "id": "bca93df5-37f0-4714-b37a-239486eb13a9",
   "metadata": {},
   "outputs": [
    {
     "data": {
      "text/plain": [
       "(4, 7)"
      ]
     },
     "execution_count": 25,
     "metadata": {},
     "output_type": "execute_result"
    }
   ],
   "source": [
    "tuple(map(lambda n:len(n),list))"
   ]
  },
  {
   "cell_type": "code",
   "execution_count": 26,
   "id": "161b7737-9195-4e82-98e9-f3cd65f8b650",
   "metadata": {},
   "outputs": [
    {
     "data": {
      "text/plain": [
       "(1152.0, 1728.0, 2304.0)"
      ]
     },
     "execution_count": 26,
     "metadata": {},
     "output_type": "execute_result"
    }
   ],
   "source": [
    "listoftempcelsius=[20,30,40]\n",
    "tuple(map(lambda n:(n*32)/(5/9),listoftempcelsius))"
   ]
  },
  {
   "cell_type": "code",
   "execution_count": 31,
   "id": "5518198a-5e2c-4f21-b6f0-0068af3dc084",
   "metadata": {},
   "outputs": [
    {
     "name": "stdout",
     "output_type": "stream",
     "text": [
      "({1, 3}, {4}, {5, 7})\n"
     ]
    }
   ],
   "source": [
    "# Example list of sets\n",
    "sets_list = [{1.234, 2.567}, {3.789, 4.123}, {5.456, 6.789}]\n",
    "\n",
    "# Use the map function to round each element in the sets\n",
    "rounded_sets = tuple(map(lambda s: set(map(round, s)), sets_list))\n",
    "\n",
    "# Print the result\n",
    "print(rounded_sets)\n"
   ]
  },
  {
   "cell_type": "code",
   "execution_count": 32,
   "id": "24fee979-6419-42c6-9522-cc8bcaba442a",
   "metadata": {},
   "outputs": [],
   "source": [
    "#Reduce"
   ]
  },
  {
   "cell_type": "code",
   "execution_count": 33,
   "id": "daf3ed28-6467-45d3-84f9-898e3f59503f",
   "metadata": {},
   "outputs": [],
   "source": [
    "list=[1,2,3,4,5]\n",
    "from functools import reduce"
   ]
  },
  {
   "cell_type": "code",
   "execution_count": 34,
   "id": "23a1db96-1688-4df5-bf47-77ebcd80b789",
   "metadata": {},
   "outputs": [
    {
     "data": {
      "text/plain": [
       "120"
      ]
     },
     "execution_count": 34,
     "metadata": {},
     "output_type": "execute_result"
    }
   ],
   "source": [
    "reduce(lambda a,b:a*b,list)"
   ]
  },
  {
   "cell_type": "code",
   "execution_count": 36,
   "id": "c38e1296-2d6b-4efb-ba92-13029990c204",
   "metadata": {},
   "outputs": [
    {
     "data": {
      "text/plain": [
       "5"
      ]
     },
     "execution_count": 36,
     "metadata": {},
     "output_type": "execute_result"
    }
   ],
   "source": [
    "reduce(lambda a,b:a if a>b else b,list)"
   ]
  },
  {
   "cell_type": "code",
   "execution_count": 38,
   "id": "e734b3a1-d300-4f1c-a19d-de9c5c2d0172",
   "metadata": {},
   "outputs": [
    {
     "data": {
      "text/plain": [
       "'pwskills'"
      ]
     },
     "execution_count": 38,
     "metadata": {},
     "output_type": "execute_result"
    }
   ],
   "source": [
    "list1=[\"pw\",\"skills\"]\n",
    "reduce(lambda a,b:a + \"\" +b,list1)"
   ]
  },
  {
   "cell_type": "code",
   "execution_count": 40,
   "id": "bbc9c5df-ad11-4e12-baf1-75919dba3b5f",
   "metadata": {},
   "outputs": [],
   "source": [
    "n=4\n",
    "fact=reduce(lambda a,b:a*b,range(1,n+1))"
   ]
  },
  {
   "cell_type": "code",
   "execution_count": 41,
   "id": "a4bad61e-3c52-4905-b349-2b0f47b9883c",
   "metadata": {},
   "outputs": [
    {
     "data": {
      "text/plain": [
       "24"
      ]
     },
     "execution_count": 41,
     "metadata": {},
     "output_type": "execute_result"
    }
   ],
   "source": [
    "fact"
   ]
  },
  {
   "cell_type": "code",
   "execution_count": 43,
   "id": "e911f72f-87b2-40b0-9e80-6f284227196e",
   "metadata": {},
   "outputs": [
    {
     "name": "stdout",
     "output_type": "stream",
     "text": [
      "6\n"
     ]
    }
   ],
   "source": [
    "n=123\n",
    "sum=0\n",
    "for i in str(n):\n",
    "    sum=sum+int(i)\n",
    "print(sum)  "
   ]
  },
  {
   "cell_type": "code",
   "execution_count": 48,
   "id": "7a01f2b2-dac9-40e0-8dd8-ee134d52c534",
   "metadata": {},
   "outputs": [],
   "source": [
    "#reduce(lambda a:sum for i in str(a) sum=sum+int(i),n)"
   ]
  },
  {
   "cell_type": "code",
   "execution_count": 1,
   "id": "7102b4e0-859c-44db-9e1a-fd740ca94d83",
   "metadata": {},
   "outputs": [],
   "source": [
    "#Filter"
   ]
  },
  {
   "cell_type": "code",
   "execution_count": 3,
   "id": "ba5de5db-f69a-4cd7-a9c2-32ecd219d449",
   "metadata": {},
   "outputs": [
    {
     "data": {
      "text/plain": [
       "(1, 2, 3)"
      ]
     },
     "execution_count": 3,
     "metadata": {},
     "output_type": "execute_result"
    }
   ],
   "source": [
    "list=[1,2,3,4,5]\n",
    "tuple(filter(lambda c :c<4,list))"
   ]
  },
  {
   "cell_type": "code",
   "execution_count": 4,
   "id": "b1bec679-e670-4dca-b7eb-321e8f06cd10",
   "metadata": {},
   "outputs": [
    {
     "data": {
      "text/plain": [
       "[1, 2, 3, 4, 5]"
      ]
     },
     "execution_count": 4,
     "metadata": {},
     "output_type": "execute_result"
    }
   ],
   "source": [
    "list"
   ]
  },
  {
   "cell_type": "code",
   "execution_count": 6,
   "id": "b8150c18-e2ca-44b8-95c9-6adc2d0718b3",
   "metadata": {},
   "outputs": [
    {
     "data": {
      "text/plain": [
       "(2, 4)"
      ]
     },
     "execution_count": 6,
     "metadata": {},
     "output_type": "execute_result"
    }
   ],
   "source": [
    "tuple(filter(lambda c :c%2==0,list))"
   ]
  },
  {
   "cell_type": "code",
   "execution_count": 7,
   "id": "aaa4c4e7-f9dd-44e0-99a1-fbde1eb95edd",
   "metadata": {},
   "outputs": [
    {
     "data": {
      "text/plain": [
       "('sudh', 'shubham')"
      ]
     },
     "execution_count": 7,
     "metadata": {},
     "output_type": "execute_result"
    }
   ],
   "source": [
    "list=[\"sudh\",\"shubham\",\"pw\"]\n",
    "tuple(filter(lambda c :c.startswith('s'),list))"
   ]
  },
  {
   "cell_type": "code",
   "execution_count": 9,
   "id": "d42fb35d-a94f-41c7-b1df-4cd6e1e0d8b0",
   "metadata": {},
   "outputs": [
    {
     "data": {
      "text/plain": [
       "('sudh', 'shubham', ' ')"
      ]
     },
     "execution_count": 9,
     "metadata": {},
     "output_type": "execute_result"
    }
   ],
   "source": [
    "list=[\"sudh\",\"shubham\",\" \"]\n",
    "tuple(filter(lambda c:c.replace(\" \",\"sky\"),list))"
   ]
  },
  {
   "cell_type": "code",
   "execution_count": 10,
   "id": "d16923c0-94cc-49aa-b630-139ea49225ee",
   "metadata": {},
   "outputs": [
    {
     "data": {
      "text/plain": [
       "['sudh', 'shubham', ' ']"
      ]
     },
     "execution_count": 10,
     "metadata": {},
     "output_type": "execute_result"
    }
   ],
   "source": [
    "list"
   ]
  },
  {
   "cell_type": "code",
   "execution_count": 12,
   "id": "7df854de-d49d-4a19-abd9-fbaeb1677351",
   "metadata": {},
   "outputs": [
    {
     "data": {
      "text/plain": [
       "('shubham',)"
      ]
     },
     "execution_count": 12,
     "metadata": {},
     "output_type": "execute_result"
    }
   ],
   "source": [
    "tuple(filter(lambda c :len(c)>4,list))"
   ]
  },
  {
   "cell_type": "code",
   "execution_count": 13,
   "id": "4454fe6e-35c8-4996-8cd1-67b045185a80",
   "metadata": {},
   "outputs": [
    {
     "data": {
      "text/plain": [
       "(3, 4, 5, 6, 7, 8)"
      ]
     },
     "execution_count": 13,
     "metadata": {},
     "output_type": "execute_result"
    }
   ],
   "source": [
    "list=[1,2,3,4,5,6,7,8]\n",
    "tuple(filter(lambda c:c>2,list))"
   ]
  },
  {
   "cell_type": "code",
   "execution_count": 14,
   "id": "ffed214e-2a0b-47e0-acc7-165f663191b1",
   "metadata": {},
   "outputs": [],
   "source": [
    "#Recursion"
   ]
  },
  {
   "cell_type": "code",
   "execution_count": 15,
   "id": "bee31ff5-efcc-4575-8b22-e6f3b93ef672",
   "metadata": {},
   "outputs": [],
   "source": [
    "def fact(n):\n",
    "    if n==0 or n==1:\n",
    "        return 1\n",
    "    else:\n",
    "        return n*fact(n-1)"
   ]
  },
  {
   "cell_type": "code",
   "execution_count": 16,
   "id": "fcd7976e-1cf9-4cb7-98ee-97d746dc6ca9",
   "metadata": {},
   "outputs": [],
   "source": [
    "x=fact(4)"
   ]
  },
  {
   "cell_type": "code",
   "execution_count": 17,
   "id": "fd125315-b295-47d6-8a5e-938a361f7768",
   "metadata": {},
   "outputs": [
    {
     "data": {
      "text/plain": [
       "24"
      ]
     },
     "execution_count": 17,
     "metadata": {},
     "output_type": "execute_result"
    }
   ],
   "source": [
    "x"
   ]
  },
  {
   "cell_type": "code",
   "execution_count": 18,
   "id": "d189e439-39fa-4af1-a00a-a948bbd5b79b",
   "metadata": {},
   "outputs": [],
   "source": [
    "#nth fibonaaci "
   ]
  },
  {
   "cell_type": "code",
   "execution_count": 19,
   "id": "ddc64cc6-bed7-420f-9da9-3c213b466f4e",
   "metadata": {},
   "outputs": [],
   "source": [
    "def fib(n):\n",
    "    if n<=1:\n",
    "        return 1\n",
    "    else:\n",
    "        return fib(n-1)+fib(n-2)"
   ]
  },
  {
   "cell_type": "code",
   "execution_count": 20,
   "id": "5422e89c-d49a-46d3-b15e-5ff47783f743",
   "metadata": {},
   "outputs": [],
   "source": [
    "x=fib(5)"
   ]
  },
  {
   "cell_type": "code",
   "execution_count": 21,
   "id": "2cbedc99-60c9-4207-b3c2-96a305775594",
   "metadata": {},
   "outputs": [
    {
     "data": {
      "text/plain": [
       "8"
      ]
     },
     "execution_count": 21,
     "metadata": {},
     "output_type": "execute_result"
    }
   ],
   "source": [
    "x"
   ]
  },
  {
   "cell_type": "code",
   "execution_count": 22,
   "id": "7c249aad-6ebd-4488-8e39-41dd57c1ec32",
   "metadata": {},
   "outputs": [],
   "source": [
    "list=[1,2,3,4,5]"
   ]
  },
  {
   "cell_type": "code",
   "execution_count": 23,
   "id": "302e312f-ec0d-4868-92c5-755e85f08d8c",
   "metadata": {},
   "outputs": [
    {
     "data": {
      "text/plain": [
       "[1, 2, 3, 4, 5]"
      ]
     },
     "execution_count": 23,
     "metadata": {},
     "output_type": "execute_result"
    }
   ],
   "source": [
    "list"
   ]
  },
  {
   "cell_type": "code",
   "execution_count": 24,
   "id": "61763d6f-d109-4d72-b624-82cc8b45009c",
   "metadata": {},
   "outputs": [],
   "source": [
    "def sum(list):\n",
    "    if not list:\n",
    "        return 0\n",
    "    else:\n",
    "        return list[0]+sum(list[1:])"
   ]
  },
  {
   "cell_type": "code",
   "execution_count": 25,
   "id": "b7d3c844-6777-4ec9-85d3-17f8804e1ec5",
   "metadata": {},
   "outputs": [],
   "source": [
    "x=sum(list)"
   ]
  },
  {
   "cell_type": "code",
   "execution_count": 26,
   "id": "6cff6e5c-3221-48f3-9a83-212d88099e0e",
   "metadata": {},
   "outputs": [
    {
     "data": {
      "text/plain": [
       "15"
      ]
     },
     "execution_count": 26,
     "metadata": {},
     "output_type": "execute_result"
    }
   ],
   "source": [
    "x"
   ]
  },
  {
   "cell_type": "code",
   "execution_count": 27,
   "id": "eb568464-ce17-4756-8ee0-5aae358c4ece",
   "metadata": {},
   "outputs": [],
   "source": [
    "def reverse(s):\n",
    "    if s==\"\":\n",
    "        return \"\"\n",
    "    else:\n",
    "        return reverse(s[1:])+s[0] "
   ]
  },
  {
   "cell_type": "code",
   "execution_count": 28,
   "id": "5f90af94-c733-452a-bbeb-0b902dab5092",
   "metadata": {},
   "outputs": [],
   "source": [
    "x=reverse(\"shubham\")"
   ]
  },
  {
   "cell_type": "code",
   "execution_count": 29,
   "id": "927ae296-1bb4-417c-b881-40492bdc32b9",
   "metadata": {},
   "outputs": [
    {
     "data": {
      "text/plain": [
       "'mahbuhs'"
      ]
     },
     "execution_count": 29,
     "metadata": {},
     "output_type": "execute_result"
    }
   ],
   "source": [
    "x"
   ]
  },
  {
   "cell_type": "code",
   "execution_count": 30,
   "id": "8ae9d85a-d8e6-4842-805b-a16bd9e89f6b",
   "metadata": {},
   "outputs": [],
   "source": [
    "def power(base,exponent):\n",
    "    if exponent==0:\n",
    "        return 1\n",
    "    else:\n",
    "        return base*power(base,exponent-1)"
   ]
  },
  {
   "cell_type": "code",
   "execution_count": 31,
   "id": "a1eae3d0-5202-4d7d-94c4-5db62229b87c",
   "metadata": {},
   "outputs": [],
   "source": [
    "x=power(2,3)"
   ]
  },
  {
   "cell_type": "code",
   "execution_count": 32,
   "id": "d26f2958-6f3a-4cc4-a16a-cc1c4e75dcdf",
   "metadata": {},
   "outputs": [
    {
     "data": {
      "text/plain": [
       "8"
      ]
     },
     "execution_count": 32,
     "metadata": {},
     "output_type": "execute_result"
    }
   ],
   "source": [
    "x"
   ]
  },
  {
   "cell_type": "code",
   "execution_count": 33,
   "id": "6f0f635b-fa7e-4f40-893b-31def3942668",
   "metadata": {},
   "outputs": [],
   "source": [
    "def isPalindrome(s):\n",
    "    if len(s)<=1:\n",
    "        return True\n",
    "    if s[0]==s[-1]:\n",
    "        return isPalindrome(s[1:-1])\n",
    "    else:\n",
    "        return False   "
   ]
  },
  {
   "cell_type": "code",
   "execution_count": 34,
   "id": "5117f13d-926f-4204-a207-18fefcf0acc2",
   "metadata": {},
   "outputs": [],
   "source": [
    "x=isPalindrome(\"malayalam\")"
   ]
  },
  {
   "cell_type": "code",
   "execution_count": 35,
   "id": "59fbeb49-d0dd-4f4c-a10a-0755146ec4f1",
   "metadata": {},
   "outputs": [
    {
     "data": {
      "text/plain": [
       "True"
      ]
     },
     "execution_count": 35,
     "metadata": {},
     "output_type": "execute_result"
    }
   ],
   "source": [
    "x"
   ]
  },
  {
   "cell_type": "code",
   "execution_count": 39,
   "id": "6e290984-8702-423b-b10d-af3fa022f8f8",
   "metadata": {},
   "outputs": [],
   "source": [
    "def generate_combinations(elements, current_combination=[], index=0):\n",
    "    if index == len(elements):\n",
    "        print(current_combination)\n",
    "        return\n",
    "\n",
    "    # Include the current element in the combination\n",
    "    generate_combinations(elements, current)\n"
   ]
  },
  {
   "cell_type": "code",
   "execution_count": 44,
   "id": "038aa2e6-1a0c-4e14-9820-70d93d656360",
   "metadata": {},
   "outputs": [],
   "source": [
    "def sum(a,b):\n",
    "    return a+b"
   ]
  },
  {
   "cell_type": "code",
   "execution_count": 45,
   "id": "d6e811ab-f2df-434e-aedc-a68d354f1101",
   "metadata": {},
   "outputs": [
    {
     "name": "stdout",
     "output_type": "stream",
     "text": [
      "5\n"
     ]
    }
   ],
   "source": [
    "x=sum(2,3)\n",
    "print(x)"
   ]
  },
  {
   "cell_type": "code",
   "execution_count": 46,
   "id": "7a6d00b6-4c07-431e-b78d-b303c5f8fe3a",
   "metadata": {},
   "outputs": [],
   "source": [
    "def product(a,b):\n",
    "    return a*b"
   ]
  },
  {
   "cell_type": "code",
   "execution_count": 47,
   "id": "6e049c02-fdc5-4cde-88e8-28a259e1ab59",
   "metadata": {},
   "outputs": [
    {
     "name": "stdout",
     "output_type": "stream",
     "text": [
      "12\n"
     ]
    }
   ],
   "source": [
    "x=product(3,4)\n",
    "print(x)"
   ]
  },
  {
   "cell_type": "code",
   "execution_count": 48,
   "id": "7f9159bb-4d91-4390-bf5b-a7c01c799357",
   "metadata": {},
   "outputs": [],
   "source": [
    "def cal(a=4,b=8):\n",
    "    return b/a"
   ]
  },
  {
   "cell_type": "code",
   "execution_count": 50,
   "id": "ce2e0d4b-7295-4fcf-987c-efc2bcdcc594",
   "metadata": {},
   "outputs": [
    {
     "name": "stdout",
     "output_type": "stream",
     "text": [
      "2.0\n"
     ]
    }
   ],
   "source": [
    "x=cal()\n",
    "print(x)"
   ]
  },
  {
   "cell_type": "code",
   "execution_count": 51,
   "id": "7601c9a8-8d5f-4e21-91f5-5dbf47c47d67",
   "metadata": {},
   "outputs": [],
   "source": [
    "def merge(firstname,lastname):\n",
    "    return firstname +\" \"+ lastname"
   ]
  },
  {
   "cell_type": "code",
   "execution_count": 52,
   "id": "15ae67d1-a6a8-4179-9ddf-2723eced52e0",
   "metadata": {},
   "outputs": [
    {
     "name": "stdout",
     "output_type": "stream",
     "text": [
      "pw skills\n"
     ]
    }
   ],
   "source": [
    "x=merge(firstname=\"pw\",lastname=\"skills\")\n",
    "print(x)"
   ]
  },
  {
   "cell_type": "code",
   "execution_count": 65,
   "id": "17e00e94-61f2-47f4-8d0e-abd1feedf9f5",
   "metadata": {},
   "outputs": [],
   "source": [
    "def find_num(*numbers):\n",
    "    result=0\n",
    "    for num in numbers:\n",
    "        result=result+num\n",
    "    print(\"sum is\",result) "
   ]
  },
  {
   "cell_type": "code",
   "execution_count": 66,
   "id": "7b038d4b-ff60-459e-95e8-5792946e85af",
   "metadata": {},
   "outputs": [
    {
     "name": "stdout",
     "output_type": "stream",
     "text": [
      "sum is 15\n"
     ]
    }
   ],
   "source": [
    "find_num(1,2,3,4,5)"
   ]
  },
  {
   "cell_type": "code",
   "execution_count": null,
   "id": "592b5940-9afe-4013-b4ce-7c3c44132656",
   "metadata": {},
   "outputs": [],
   "source": []
  }
 ],
 "metadata": {
  "kernelspec": {
   "display_name": "Python 3 (ipykernel)",
   "language": "python",
   "name": "python3"
  },
  "language_info": {
   "codemirror_mode": {
    "name": "ipython",
    "version": 3
   },
   "file_extension": ".py",
   "mimetype": "text/x-python",
   "name": "python",
   "nbconvert_exporter": "python",
   "pygments_lexer": "ipython3",
   "version": "3.10.8"
  }
 },
 "nbformat": 4,
 "nbformat_minor": 5
}
